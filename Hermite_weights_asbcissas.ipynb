{
 "cells": [
  {
   "cell_type": "code",
   "execution_count": 81,
   "id": "aa084949-54fe-4b59-8de3-9c48f32d5dc3",
   "metadata": {},
   "outputs": [
    {
     "data": {
      "text/latex": [
       "$\\displaystyle w = 0.166666666666667 \\sqrt{\\pi}$"
      ],
      "text/plain": [
       "Eq(w, 0.166666666666667*sqrt(pi))"
      ]
     },
     "metadata": {},
     "output_type": "display_data"
    },
    {
     "data": {
      "text/latex": [
       "$\\displaystyle w = \\frac{2 \\sqrt{\\pi}}{3}$"
      ],
      "text/plain": [
       "Eq(w, 2*sqrt(pi)/3)"
      ]
     },
     "metadata": {},
     "output_type": "display_data"
    },
    {
     "data": {
      "text/latex": [
       "$\\displaystyle w = 0.166666666666667 \\sqrt{\\pi}$"
      ],
      "text/plain": [
       "Eq(w, 0.166666666666667*sqrt(pi))"
      ]
     },
     "metadata": {},
     "output_type": "display_data"
    }
   ],
   "source": [
    "import sympy as sp\n",
    "from sympy import symbols, sqrt, Matrix, init_printing, Symbol, latex, zeros, Rational\n",
    "\n",
    "def Hn(x):\n",
    "    H = 8*x**3 - 12*x\n",
    "    return H\n",
    "\n",
    "def Hpn(x):\n",
    "    H = 24*x**2 - 12\n",
    "    return H\n",
    "\n",
    "def weights(n, x):\n",
    "    wj = (2**(n+1) * sp.factorial(n) * sp.sqrt(sp.pi)) / Hpn(x)**2\n",
    "    return wj\n",
    "\n",
    "x = sp.symbols('x')\n",
    "\n",
    "x_points = [-sp.sqrt(3/2), 0, sp.sqrt(3/2)]\n",
    "\n",
    "n = 3\n",
    "\n",
    "weights_n_x = [weights(n, val) for val in x_points]\n",
    "\n",
    "display(sp.Eq(sp.symbols('w'), weights_n_x[0], evaluate=False))\n",
    "display(sp.Eq(sp.symbols('w'), weights_n_x[1], evaluate=False))\n",
    "display(sp.Eq(sp.symbols('w'), weights_n_x[2], evaluate=False))\n"
   ]
  },
  {
   "cell_type": "code",
   "execution_count": null,
   "id": "93cc83ee-dc9b-4353-85e7-0ed969ab5381",
   "metadata": {},
   "outputs": [],
   "source": []
  }
 ],
 "metadata": {
  "kernelspec": {
   "display_name": "Python 3 (ipykernel)",
   "language": "python",
   "name": "python3"
  },
  "language_info": {
   "codemirror_mode": {
    "name": "ipython",
    "version": 3
   },
   "file_extension": ".py",
   "mimetype": "text/x-python",
   "name": "python",
   "nbconvert_exporter": "python",
   "pygments_lexer": "ipython3",
   "version": "3.8.10"
  }
 },
 "nbformat": 4,
 "nbformat_minor": 5
}
